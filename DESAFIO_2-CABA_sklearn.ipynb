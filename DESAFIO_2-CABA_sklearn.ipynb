{
 "cells": [
  {
   "cell_type": "code",
   "execution_count": 1,
   "metadata": {},
   "outputs": [],
   "source": [
    "# Librerias de data wrangling\n",
    "import numpy as np\n",
    "import pandas as pd\n",
    "# Librerias de visualizacion\n",
    "import matplotlib.pyplot as plt\n",
    "%matplotlib inline\n",
    "import seaborn as sns\n",
    "# Defino el numero maximo de filas y columnas\n",
    "pd.options.display.max_rows = 500\n",
    "pd.options.display.max_columns = 500\n",
    "#Defino el formato del dataset\n",
    "pd.options.display.float_format = '{:.2f}'.format"
   ]
  },
  {
   "cell_type": "code",
   "execution_count": 3,
   "metadata": {},
   "outputs": [
    {
     "data": {
      "text/html": [
       "<div>\n",
       "<style scoped>\n",
       "    .dataframe tbody tr th:only-of-type {\n",
       "        vertical-align: middle;\n",
       "    }\n",
       "\n",
       "    .dataframe tbody tr th {\n",
       "        vertical-align: top;\n",
       "    }\n",
       "\n",
       "    .dataframe thead th {\n",
       "        text-align: right;\n",
       "    }\n",
       "</style>\n",
       "<table border=\"1\" class=\"dataframe\">\n",
       "  <thead>\n",
       "    <tr style=\"text-align: right;\">\n",
       "      <th></th>\n",
       "      <th>Unnamed: 0</th>\n",
       "      <th>index_prop</th>\n",
       "      <th>property_type</th>\n",
       "      <th>place_name</th>\n",
       "      <th>place_with_parent_names</th>\n",
       "      <th>state_name</th>\n",
       "      <th>geonames_id</th>\n",
       "      <th>lat</th>\n",
       "      <th>lon</th>\n",
       "      <th>price</th>\n",
       "      <th>currency</th>\n",
       "      <th>price_aprox_local_currency</th>\n",
       "      <th>price_aprox_usd</th>\n",
       "      <th>surface_total_in_m2</th>\n",
       "      <th>surface_covered_in_m2</th>\n",
       "      <th>price_usd_per_m2</th>\n",
       "      <th>price_per_m2</th>\n",
       "      <th>rooms</th>\n",
       "      <th>description</th>\n",
       "      <th>title</th>\n",
       "      <th>price_aprox_usd_FILLED</th>\n",
       "      <th>surface_covered_in_m2_FILLED</th>\n",
       "      <th>valor_dolar</th>\n",
       "    </tr>\n",
       "  </thead>\n",
       "  <tbody>\n",
       "    <tr>\n",
       "      <th>0</th>\n",
       "      <td>2</td>\n",
       "      <td>2</td>\n",
       "      <td>apartment</td>\n",
       "      <td>Mataderos</td>\n",
       "      <td>|Argentina|Capital Federal|Mataderos|</td>\n",
       "      <td>Capital Federal</td>\n",
       "      <td>3430787.00</td>\n",
       "      <td>-34.65</td>\n",
       "      <td>-58.52</td>\n",
       "      <td>72000.00</td>\n",
       "      <td>USD</td>\n",
       "      <td>1270404.00</td>\n",
       "      <td>72000.00</td>\n",
       "      <td>55.00</td>\n",
       "      <td>55.00</td>\n",
       "      <td>1309.09</td>\n",
       "      <td>1309.09</td>\n",
       "      <td>nan</td>\n",
       "      <td>2 AMBIENTES 3ER PISO LATERAL LIVING COMEDOR AM...</td>\n",
       "      <td>2 AMB 3ER PISO CON ASCENSOR APTO CREDITO</td>\n",
       "      <td>72000.00</td>\n",
       "      <td>55.00</td>\n",
       "      <td>nan</td>\n",
       "    </tr>\n",
       "    <tr>\n",
       "      <th>1</th>\n",
       "      <td>6</td>\n",
       "      <td>6</td>\n",
       "      <td>PH</td>\n",
       "      <td>Munro</td>\n",
       "      <td>|Argentina|Bs.As. G.B.A. Zona Norte|Vicente LÃ...</td>\n",
       "      <td>Bs.As. G.B.A. Zona Norte</td>\n",
       "      <td>3430511.00</td>\n",
       "      <td>-34.53</td>\n",
       "      <td>-58.52</td>\n",
       "      <td>130000.00</td>\n",
       "      <td>USD</td>\n",
       "      <td>2293785.00</td>\n",
       "      <td>130000.00</td>\n",
       "      <td>106.00</td>\n",
       "      <td>78.00</td>\n",
       "      <td>1226.42</td>\n",
       "      <td>1666.67</td>\n",
       "      <td>nan</td>\n",
       "      <td>MUY BUEN PH AL FRENTE CON ENTRADA INDEPENDIENT...</td>\n",
       "      <td>MUY BUEN PH AL FRENTE DOS DORMITORIOS , PATIO,...</td>\n",
       "      <td>130000.00</td>\n",
       "      <td>78.00</td>\n",
       "      <td>nan</td>\n",
       "    </tr>\n",
       "  </tbody>\n",
       "</table>\n",
       "</div>"
      ],
      "text/plain": [
       "   Unnamed: 0  index_prop property_type place_name  \\\n",
       "0           2           2     apartment  Mataderos   \n",
       "1           6           6            PH      Munro   \n",
       "\n",
       "                             place_with_parent_names  \\\n",
       "0              |Argentina|Capital Federal|Mataderos|   \n",
       "1  |Argentina|Bs.As. G.B.A. Zona Norte|Vicente LÃ...   \n",
       "\n",
       "                 state_name  geonames_id    lat    lon     price currency  \\\n",
       "0           Capital Federal   3430787.00 -34.65 -58.52  72000.00      USD   \n",
       "1  Bs.As. G.B.A. Zona Norte   3430511.00 -34.53 -58.52 130000.00      USD   \n",
       "\n",
       "   price_aprox_local_currency  price_aprox_usd  surface_total_in_m2  \\\n",
       "0                  1270404.00         72000.00                55.00   \n",
       "1                  2293785.00        130000.00               106.00   \n",
       "\n",
       "   surface_covered_in_m2  price_usd_per_m2  price_per_m2  rooms  \\\n",
       "0                  55.00           1309.09       1309.09    nan   \n",
       "1                  78.00           1226.42       1666.67    nan   \n",
       "\n",
       "                                         description  \\\n",
       "0  2 AMBIENTES 3ER PISO LATERAL LIVING COMEDOR AM...   \n",
       "1  MUY BUEN PH AL FRENTE CON ENTRADA INDEPENDIENT...   \n",
       "\n",
       "                                               title  price_aprox_usd_FILLED  \\\n",
       "0           2 AMB 3ER PISO CON ASCENSOR APTO CREDITO                72000.00   \n",
       "1  MUY BUEN PH AL FRENTE DOS DORMITORIOS , PATIO,...               130000.00   \n",
       "\n",
       "   surface_covered_in_m2_FILLED  valor_dolar  \n",
       "0                         55.00          nan  \n",
       "1                         78.00          nan  "
      ]
     },
     "execution_count": 3,
     "metadata": {},
     "output_type": "execute_result"
    }
   ],
   "source": [
    "#Leo el nuevo dataset\n",
    "\n",
    "df = pd.read_csv('properatti_normalizado.zip', sep=\",\")\n",
    "df.head(2)"
   ]
  },
  {
   "cell_type": "code",
   "execution_count": 44,
   "metadata": {},
   "outputs": [],
   "source": [
    "#Filtramos de acuerdo a los barrios de CABA que vamos a utilizar para la regresión con cantidad de propiedades que sean significativas \n",
    "\n",
    "mascara_barrios = (df['place_name'] == 'Belgrano') | (df['place_name'] == 'Barrio Norte') | (df['place_name'] == 'Palermo') | (df['place_name'] == 'NuÃ±ez') | (df['place_name'] == 'Puerto Madero') \\\n",
    "    | (df['place_name'] == 'Recoleta') | (df['place_name'] == 'Saavedra') | (df['place_name'] == 'Palermo Hollywood') | (df['place_name'] == 'Colegiales') | (df['place_name'] == 'Palermo Soho') \\\n",
    "    | (df['place_name'] == 'Coghlan') | (df['place_name'] == 'Retiro') | (df['place_name'] == 'Palermo Chico') | (df['place_name'] == 'Las CaÃ±itas') | (df['place_name'] == 'Palermo Viejo') \\\n",
    "    | (df['place_name'] == 'Villa PueyrredÃ³n') | (df['place_name'] == 'Villa General Mitre') | (df['place_name'] == 'Almagro') \\\n",
    "    | (df['place_name'] == 'Caballito') | (df['place_name'] == 'Villa Urquiza') | (df['place_name'] == 'Flores') | (df['place_name'] == 'Villa Crespo') | (df['place_name'] == 'San Telmo') | (df['place_name'] == 'Balvanera') \\\n",
    "    | (df['place_name'] == 'San Cristobal') | (df['place_name'] == 'Monserrat') | (df['place_name'] == 'Villa del Parque') | (df['place_name'] == 'Floresta') | (df['place_name'] == 'Villa Luro') \\\n",
    "    | (df['place_name'] == 'Liniers') | (df['place_name'] == 'Villa Devoto') | (df['place_name'] == 'Congreso') | (df['place_name'] == 'Chacarita') | (df['place_name'] == 'San NicolÃ¡s') | (df['place_name'] == 'Paternal') | (df['place_name'] == 'Once') \\\n",
    "    | (df['place_name'] == 'Parque Chacabuco') | (df['place_name'] == 'Abasto' ) | (df['place_name'] == 'Tribunales' ) | (df['place_name'] == 'Villa Ortuzar' ) | (df['place_name'] == 'Villa Ortuzar' ) | (df['place_name'] == 'Monte Castro' ) \\\n",
    "    | (df['place_name'] == 'Versalles') | (df['place_name'] == 'Velez Sarsfield') | (df['place_name'] == 'AgronomÃ­a') | (df['place_name'] == 'Villa Real') | (df['place_name'] == 'Parque Chas') | (df['place_name'] == 'Villa Santa Rita') \\\n",
    "    | (df['place_name'] == 'Boedo') | (df['place_name'] == 'Barracas') | (df['place_name'] == 'Centro / Microcentro') | (df['place_name'] == 'ConstituciÃ³n') | (df['place_name'] == 'Mataderos') | (df['place_name'] == 'Villa Lugano') \\\n",
    "    | (df['place_name'] == 'Parque Patricios') | (df['place_name'] == 'Parque Centenario') | (df['place_name'] == 'Boca') | (df['place_name'] == 'Parque Avellaneda') | (df['place_name'] == 'Pompeya') | (df['place_name'] == 'Villa Soldati')\n",
    "    \n",
    "    \n",
    "df = df.loc[mascara_barrios]"
   ]
  },
  {
   "cell_type": "code",
   "execution_count": 45,
   "metadata": {},
   "outputs": [
    {
     "data": {
      "text/plain": [
       "Belgrano             1983\n",
       "Palermo              1823\n",
       "Caballito            1644\n",
       "Recoleta             1087\n",
       "Villa Urquiza        1069\n",
       "Villa Crespo         1004\n",
       "San Telmo             936\n",
       "Flores                932\n",
       "Barrio Norte          836\n",
       "Almagro               776\n",
       "NuÃ±ez                501\n",
       "Balvanera             435\n",
       "Palermo Hollywood     428\n",
       "Saavedra              401\n",
       "Boedo                 335\n",
       "Villa del Parque      328\n",
       "Barracas              306\n",
       "Monserrat             300\n",
       "Palermo Soho          290\n",
       "Villa Luro            280\n",
       "Name: place_name, dtype: int64"
      ]
     },
     "execution_count": 45,
     "metadata": {},
     "output_type": "execute_result"
    }
   ],
   "source": [
    "#Chequeamos como quedo distribuido el dataset en términos de barrios\n",
    "\n",
    "df['place_name'].value_counts().head(20)"
   ]
  },
  {
   "cell_type": "code",
   "execution_count": 46,
   "metadata": {},
   "outputs": [],
   "source": [
    "#Eliminamos nulos en las feature elegidas del dataset y en la variable objetivo\n",
    "\n",
    "df.dropna(axis=0,how='any',subset=['rooms'], inplace=True)\n",
    "df.dropna(axis=0,how='any',subset=['surface_total_in_m2'], inplace=True)\n",
    "df.dropna(axis=0,how='any',subset=['price_aprox_usd_FILLED'], inplace=True)"
   ]
  },
  {
   "cell_type": "code",
   "execution_count": 47,
   "metadata": {},
   "outputs": [
    {
     "data": {
      "text/plain": [
       "(9023, 23)"
      ]
     },
     "execution_count": 47,
     "metadata": {},
     "output_type": "execute_result"
    }
   ],
   "source": [
    "df.shape"
   ]
  },
  {
   "cell_type": "code",
   "execution_count": 48,
   "metadata": {},
   "outputs": [
    {
     "data": {
      "text/plain": [
       "count     9023.00\n",
       "mean    208013.93\n",
       "std     166370.10\n",
       "min      30100.00\n",
       "25%     100000.00\n",
       "50%     150000.00\n",
       "75%     250000.00\n",
       "max     999000.00\n",
       "Name: price_aprox_usd_FILLED, dtype: float64"
      ]
     },
     "execution_count": 48,
     "metadata": {},
     "output_type": "execute_result"
    }
   ],
   "source": [
    "df['price_aprox_usd_FILLED'].describe()"
   ]
  },
  {
   "cell_type": "code",
   "execution_count": 49,
   "metadata": {},
   "outputs": [
    {
     "data": {
      "text/html": [
       "<div>\n",
       "<style scoped>\n",
       "    .dataframe tbody tr th:only-of-type {\n",
       "        vertical-align: middle;\n",
       "    }\n",
       "\n",
       "    .dataframe tbody tr th {\n",
       "        vertical-align: top;\n",
       "    }\n",
       "\n",
       "    .dataframe thead th {\n",
       "        text-align: right;\n",
       "    }\n",
       "</style>\n",
       "<table border=\"1\" class=\"dataframe\">\n",
       "  <thead>\n",
       "    <tr style=\"text-align: right;\">\n",
       "      <th></th>\n",
       "      <th>apartment</th>\n",
       "      <th>house</th>\n",
       "      <th>store</th>\n",
       "    </tr>\n",
       "  </thead>\n",
       "  <tbody>\n",
       "    <tr>\n",
       "      <th>5</th>\n",
       "      <td>1</td>\n",
       "      <td>0</td>\n",
       "      <td>0</td>\n",
       "    </tr>\n",
       "    <tr>\n",
       "      <th>6</th>\n",
       "      <td>1</td>\n",
       "      <td>0</td>\n",
       "      <td>0</td>\n",
       "    </tr>\n",
       "    <tr>\n",
       "      <th>8</th>\n",
       "      <td>0</td>\n",
       "      <td>0</td>\n",
       "      <td>0</td>\n",
       "    </tr>\n",
       "    <tr>\n",
       "      <th>11</th>\n",
       "      <td>1</td>\n",
       "      <td>0</td>\n",
       "      <td>0</td>\n",
       "    </tr>\n",
       "    <tr>\n",
       "      <th>12</th>\n",
       "      <td>1</td>\n",
       "      <td>0</td>\n",
       "      <td>0</td>\n",
       "    </tr>\n",
       "  </tbody>\n",
       "</table>\n",
       "</div>"
      ],
      "text/plain": [
       "    apartment  house  store\n",
       "5           1      0      0\n",
       "6           1      0      0\n",
       "8           0      0      0\n",
       "11          1      0      0\n",
       "12          1      0      0"
      ]
     },
     "execution_count": 49,
     "metadata": {},
     "output_type": "execute_result"
    }
   ],
   "source": [
    "#Generamos variables Dummies para el tipo de propiedad\n",
    "\n",
    "df_CABA_NGBA_with_type= pd.get_dummies(df['property_type'], drop_first=True)\n",
    "df = pd.concat([df, df_CABA_NGBA_with_type], axis=1)\n",
    "df_CABA_NGBA_with_type.head()"
   ]
  },
  {
   "cell_type": "code",
   "execution_count": 50,
   "metadata": {},
   "outputs": [],
   "source": [
    "#Generamos variables Dummies para los barrios\n",
    "\n",
    "df_CABA_NGBA_with_dummies = pd.get_dummies(df['place_name'], drop_first=True)\n",
    "df = pd.concat([df, df_CABA_NGBA_with_dummies], axis=1) \n"
   ]
  },
  {
   "cell_type": "code",
   "execution_count": 51,
   "metadata": {},
   "outputs": [
    {
     "data": {
      "text/html": [
       "<div>\n",
       "<style scoped>\n",
       "    .dataframe tbody tr th:only-of-type {\n",
       "        vertical-align: middle;\n",
       "    }\n",
       "\n",
       "    .dataframe tbody tr th {\n",
       "        vertical-align: top;\n",
       "    }\n",
       "\n",
       "    .dataframe thead th {\n",
       "        text-align: right;\n",
       "    }\n",
       "</style>\n",
       "<table border=\"1\" class=\"dataframe\">\n",
       "  <thead>\n",
       "    <tr style=\"text-align: right;\">\n",
       "      <th></th>\n",
       "      <th>Unnamed: 0</th>\n",
       "      <th>index_prop</th>\n",
       "      <th>property_type</th>\n",
       "      <th>place_name</th>\n",
       "      <th>place_with_parent_names</th>\n",
       "      <th>state_name</th>\n",
       "      <th>geonames_id</th>\n",
       "      <th>lat</th>\n",
       "      <th>lon</th>\n",
       "      <th>price</th>\n",
       "      <th>currency</th>\n",
       "      <th>price_aprox_local_currency</th>\n",
       "      <th>price_aprox_usd</th>\n",
       "      <th>surface_total_in_m2</th>\n",
       "      <th>surface_covered_in_m2</th>\n",
       "      <th>price_usd_per_m2</th>\n",
       "      <th>price_per_m2</th>\n",
       "      <th>rooms</th>\n",
       "      <th>description</th>\n",
       "      <th>title</th>\n",
       "      <th>price_aprox_usd_FILLED</th>\n",
       "      <th>surface_covered_in_m2_FILLED</th>\n",
       "      <th>valor_dolar</th>\n",
       "      <th>apartment</th>\n",
       "      <th>house</th>\n",
       "      <th>store</th>\n",
       "      <th>AgronomÃ­a</th>\n",
       "      <th>Almagro</th>\n",
       "      <th>Balvanera</th>\n",
       "      <th>Barracas</th>\n",
       "      <th>Barrio Norte</th>\n",
       "      <th>Belgrano</th>\n",
       "      <th>Boca</th>\n",
       "      <th>Boedo</th>\n",
       "      <th>Caballito</th>\n",
       "      <th>Centro / Microcentro</th>\n",
       "      <th>Chacarita</th>\n",
       "      <th>Coghlan</th>\n",
       "      <th>Colegiales</th>\n",
       "      <th>Congreso</th>\n",
       "      <th>ConstituciÃ³n</th>\n",
       "      <th>Flores</th>\n",
       "      <th>Floresta</th>\n",
       "      <th>Las CaÃ±itas</th>\n",
       "      <th>Liniers</th>\n",
       "      <th>Mataderos</th>\n",
       "      <th>Monserrat</th>\n",
       "      <th>Monte Castro</th>\n",
       "      <th>NuÃ±ez</th>\n",
       "      <th>Once</th>\n",
       "      <th>Palermo</th>\n",
       "      <th>Palermo Chico</th>\n",
       "      <th>Palermo Hollywood</th>\n",
       "      <th>Palermo Soho</th>\n",
       "      <th>Palermo Viejo</th>\n",
       "      <th>Parque Avellaneda</th>\n",
       "      <th>Parque Centenario</th>\n",
       "      <th>Parque Chacabuco</th>\n",
       "      <th>Parque Chas</th>\n",
       "      <th>Parque Patricios</th>\n",
       "      <th>Paternal</th>\n",
       "      <th>Pompeya</th>\n",
       "      <th>Puerto Madero</th>\n",
       "      <th>Recoleta</th>\n",
       "      <th>Retiro</th>\n",
       "      <th>Saavedra</th>\n",
       "      <th>San Cristobal</th>\n",
       "      <th>San NicolÃ¡s</th>\n",
       "      <th>San Telmo</th>\n",
       "      <th>Tribunales</th>\n",
       "      <th>Velez Sarsfield</th>\n",
       "      <th>Versalles</th>\n",
       "      <th>Villa Crespo</th>\n",
       "      <th>Villa Devoto</th>\n",
       "      <th>Villa General Mitre</th>\n",
       "      <th>Villa Lugano</th>\n",
       "      <th>Villa Luro</th>\n",
       "      <th>Villa Ortuzar</th>\n",
       "      <th>Villa PueyrredÃ³n</th>\n",
       "      <th>Villa Real</th>\n",
       "      <th>Villa Santa Rita</th>\n",
       "      <th>Villa Soldati</th>\n",
       "      <th>Villa Urquiza</th>\n",
       "      <th>Villa del Parque</th>\n",
       "    </tr>\n",
       "  </thead>\n",
       "  <tbody>\n",
       "    <tr>\n",
       "      <th>5</th>\n",
       "      <td>13</td>\n",
       "      <td>13</td>\n",
       "      <td>apartment</td>\n",
       "      <td>Palermo Soho</td>\n",
       "      <td>|Argentina|Capital Federal|Palermo|Palermo Soho|</td>\n",
       "      <td>Capital Federal</td>\n",
       "      <td>3430234.00</td>\n",
       "      <td>nan</td>\n",
       "      <td>nan</td>\n",
       "      <td>111700.00</td>\n",
       "      <td>USD</td>\n",
       "      <td>1970890.65</td>\n",
       "      <td>111700.00</td>\n",
       "      <td>50.00</td>\n",
       "      <td>30.00</td>\n",
       "      <td>2234.00</td>\n",
       "      <td>3723.33</td>\n",
       "      <td>1.00</td>\n",
       "      <td>Torre I Mondrian. 3 ambientes con terraza y d...</td>\n",
       "      <td>Vitraux Palermo</td>\n",
       "      <td>111700.00</td>\n",
       "      <td>30.00</td>\n",
       "      <td>nan</td>\n",
       "      <td>1</td>\n",
       "      <td>0</td>\n",
       "      <td>0</td>\n",
       "      <td>0</td>\n",
       "      <td>0</td>\n",
       "      <td>0</td>\n",
       "      <td>0</td>\n",
       "      <td>0</td>\n",
       "      <td>0</td>\n",
       "      <td>0</td>\n",
       "      <td>0</td>\n",
       "      <td>0</td>\n",
       "      <td>0</td>\n",
       "      <td>0</td>\n",
       "      <td>0</td>\n",
       "      <td>0</td>\n",
       "      <td>0</td>\n",
       "      <td>0</td>\n",
       "      <td>0</td>\n",
       "      <td>0</td>\n",
       "      <td>0</td>\n",
       "      <td>0</td>\n",
       "      <td>0</td>\n",
       "      <td>0</td>\n",
       "      <td>0</td>\n",
       "      <td>0</td>\n",
       "      <td>0</td>\n",
       "      <td>0</td>\n",
       "      <td>0</td>\n",
       "      <td>0</td>\n",
       "      <td>1</td>\n",
       "      <td>0</td>\n",
       "      <td>0</td>\n",
       "      <td>0</td>\n",
       "      <td>0</td>\n",
       "      <td>0</td>\n",
       "      <td>0</td>\n",
       "      <td>0</td>\n",
       "      <td>0</td>\n",
       "      <td>0</td>\n",
       "      <td>0</td>\n",
       "      <td>0</td>\n",
       "      <td>0</td>\n",
       "      <td>0</td>\n",
       "      <td>0</td>\n",
       "      <td>0</td>\n",
       "      <td>0</td>\n",
       "      <td>0</td>\n",
       "      <td>0</td>\n",
       "      <td>0</td>\n",
       "      <td>0</td>\n",
       "      <td>0</td>\n",
       "      <td>0</td>\n",
       "      <td>0</td>\n",
       "      <td>0</td>\n",
       "      <td>0</td>\n",
       "      <td>0</td>\n",
       "      <td>0</td>\n",
       "      <td>0</td>\n",
       "      <td>0</td>\n",
       "      <td>0</td>\n",
       "    </tr>\n",
       "    <tr>\n",
       "      <th>6</th>\n",
       "      <td>14</td>\n",
       "      <td>14</td>\n",
       "      <td>apartment</td>\n",
       "      <td>Palermo Soho</td>\n",
       "      <td>|Argentina|Capital Federal|Palermo|Palermo Soho|</td>\n",
       "      <td>Capital Federal</td>\n",
       "      <td>3430234.00</td>\n",
       "      <td>nan</td>\n",
       "      <td>nan</td>\n",
       "      <td>147900.00</td>\n",
       "      <td>USD</td>\n",
       "      <td>2609621.55</td>\n",
       "      <td>147900.00</td>\n",
       "      <td>42.00</td>\n",
       "      <td>31.00</td>\n",
       "      <td>3521.43</td>\n",
       "      <td>4770.97</td>\n",
       "      <td>1.00</td>\n",
       "      <td>Torre II DalÃ­. Ambiente unico divisible.Vitra...</td>\n",
       "      <td>Vitraux Palermo</td>\n",
       "      <td>147900.00</td>\n",
       "      <td>31.00</td>\n",
       "      <td>nan</td>\n",
       "      <td>1</td>\n",
       "      <td>0</td>\n",
       "      <td>0</td>\n",
       "      <td>0</td>\n",
       "      <td>0</td>\n",
       "      <td>0</td>\n",
       "      <td>0</td>\n",
       "      <td>0</td>\n",
       "      <td>0</td>\n",
       "      <td>0</td>\n",
       "      <td>0</td>\n",
       "      <td>0</td>\n",
       "      <td>0</td>\n",
       "      <td>0</td>\n",
       "      <td>0</td>\n",
       "      <td>0</td>\n",
       "      <td>0</td>\n",
       "      <td>0</td>\n",
       "      <td>0</td>\n",
       "      <td>0</td>\n",
       "      <td>0</td>\n",
       "      <td>0</td>\n",
       "      <td>0</td>\n",
       "      <td>0</td>\n",
       "      <td>0</td>\n",
       "      <td>0</td>\n",
       "      <td>0</td>\n",
       "      <td>0</td>\n",
       "      <td>0</td>\n",
       "      <td>0</td>\n",
       "      <td>1</td>\n",
       "      <td>0</td>\n",
       "      <td>0</td>\n",
       "      <td>0</td>\n",
       "      <td>0</td>\n",
       "      <td>0</td>\n",
       "      <td>0</td>\n",
       "      <td>0</td>\n",
       "      <td>0</td>\n",
       "      <td>0</td>\n",
       "      <td>0</td>\n",
       "      <td>0</td>\n",
       "      <td>0</td>\n",
       "      <td>0</td>\n",
       "      <td>0</td>\n",
       "      <td>0</td>\n",
       "      <td>0</td>\n",
       "      <td>0</td>\n",
       "      <td>0</td>\n",
       "      <td>0</td>\n",
       "      <td>0</td>\n",
       "      <td>0</td>\n",
       "      <td>0</td>\n",
       "      <td>0</td>\n",
       "      <td>0</td>\n",
       "      <td>0</td>\n",
       "      <td>0</td>\n",
       "      <td>0</td>\n",
       "      <td>0</td>\n",
       "      <td>0</td>\n",
       "      <td>0</td>\n",
       "    </tr>\n",
       "  </tbody>\n",
       "</table>\n",
       "</div>"
      ],
      "text/plain": [
       "   Unnamed: 0  index_prop property_type    place_name  \\\n",
       "5          13          13     apartment  Palermo Soho   \n",
       "6          14          14     apartment  Palermo Soho   \n",
       "\n",
       "                            place_with_parent_names       state_name  \\\n",
       "5  |Argentina|Capital Federal|Palermo|Palermo Soho|  Capital Federal   \n",
       "6  |Argentina|Capital Federal|Palermo|Palermo Soho|  Capital Federal   \n",
       "\n",
       "   geonames_id  lat  lon     price currency  price_aprox_local_currency  \\\n",
       "5   3430234.00  nan  nan 111700.00      USD                  1970890.65   \n",
       "6   3430234.00  nan  nan 147900.00      USD                  2609621.55   \n",
       "\n",
       "   price_aprox_usd  surface_total_in_m2  surface_covered_in_m2  \\\n",
       "5        111700.00                50.00                  30.00   \n",
       "6        147900.00                42.00                  31.00   \n",
       "\n",
       "   price_usd_per_m2  price_per_m2  rooms  \\\n",
       "5           2234.00       3723.33   1.00   \n",
       "6           3521.43       4770.97   1.00   \n",
       "\n",
       "                                         description            title  \\\n",
       "5   Torre I Mondrian. 3 ambientes con terraza y d...  Vitraux Palermo   \n",
       "6  Torre II DalÃ­. Ambiente unico divisible.Vitra...  Vitraux Palermo   \n",
       "\n",
       "   price_aprox_usd_FILLED  surface_covered_in_m2_FILLED  valor_dolar  \\\n",
       "5               111700.00                         30.00          nan   \n",
       "6               147900.00                         31.00          nan   \n",
       "\n",
       "   apartment  house  store  AgronomÃ­a  Almagro  Balvanera  Barracas  \\\n",
       "5          1      0      0           0        0          0         0   \n",
       "6          1      0      0           0        0          0         0   \n",
       "\n",
       "   Barrio Norte  Belgrano  Boca  Boedo  Caballito  Centro / Microcentro  \\\n",
       "5             0         0     0      0          0                     0   \n",
       "6             0         0     0      0          0                     0   \n",
       "\n",
       "   Chacarita  Coghlan  Colegiales  Congreso  ConstituciÃ³n  Flores  Floresta  \\\n",
       "5          0        0           0         0              0       0         0   \n",
       "6          0        0           0         0              0       0         0   \n",
       "\n",
       "   Las CaÃ±itas  Liniers  Mataderos  Monserrat  Monte Castro  NuÃ±ez  Once  \\\n",
       "5             0        0          0          0             0       0     0   \n",
       "6             0        0          0          0             0       0     0   \n",
       "\n",
       "   Palermo  Palermo Chico  Palermo Hollywood  Palermo Soho  Palermo Viejo  \\\n",
       "5        0              0                  0             1              0   \n",
       "6        0              0                  0             1              0   \n",
       "\n",
       "   Parque Avellaneda  Parque Centenario  Parque Chacabuco  Parque Chas  \\\n",
       "5                  0                  0                 0            0   \n",
       "6                  0                  0                 0            0   \n",
       "\n",
       "   Parque Patricios  Paternal  Pompeya  Puerto Madero  Recoleta  Retiro  \\\n",
       "5                 0         0        0              0         0       0   \n",
       "6                 0         0        0              0         0       0   \n",
       "\n",
       "   Saavedra  San Cristobal  San NicolÃ¡s  San Telmo  Tribunales  \\\n",
       "5         0              0             0          0           0   \n",
       "6         0              0             0          0           0   \n",
       "\n",
       "   Velez Sarsfield  Versalles  Villa Crespo  Villa Devoto  \\\n",
       "5                0          0             0             0   \n",
       "6                0          0             0             0   \n",
       "\n",
       "   Villa General Mitre  Villa Lugano  Villa Luro  Villa Ortuzar  \\\n",
       "5                    0             0           0              0   \n",
       "6                    0             0           0              0   \n",
       "\n",
       "   Villa PueyrredÃ³n  Villa Real  Villa Santa Rita  Villa Soldati  \\\n",
       "5                  0           0                 0              0   \n",
       "6                  0           0                 0              0   \n",
       "\n",
       "   Villa Urquiza  Villa del Parque  \n",
       "5              0                 0  \n",
       "6              0                 0  "
      ]
     },
     "execution_count": 51,
     "metadata": {},
     "output_type": "execute_result"
    }
   ],
   "source": [
    "df.head(2)"
   ]
  },
  {
   "cell_type": "code",
   "execution_count": 52,
   "metadata": {},
   "outputs": [
    {
     "data": {
      "text/plain": [
       "0    7621\n",
       "1    1402\n",
       "Name: tiene_amenities, dtype: int64"
      ]
     },
     "execution_count": 52,
     "metadata": {},
     "output_type": "execute_result"
    }
   ],
   "source": [
    "#Minamos el campo 'description' para obtener dummies de características significativas de las propiedades\n",
    "\n",
    "df['tiene_amenities'] = df['description'].map(lambda x: 1 if x.lower().find('amenities')>0 else 0)\n",
    "df['tiene_amenities'].value_counts()"
   ]
  },
  {
   "cell_type": "code",
   "execution_count": 53,
   "metadata": {},
   "outputs": [
    {
     "data": {
      "text/plain": [
       "0    5936\n",
       "1    3087\n",
       "Name: tiene_cochera, dtype: int64"
      ]
     },
     "execution_count": 53,
     "metadata": {},
     "output_type": "execute_result"
    }
   ],
   "source": [
    "#Minamos el campo 'description' para obtener dummies de características significativas de las propiedades\n",
    "\n",
    "df['tiene_cochera'] = df['description'].map(lambda x: 1 if x.lower().find('cochera')>0 else 0)\n",
    "df['tiene_cochera'].value_counts()"
   ]
  },
  {
   "cell_type": "code",
   "execution_count": 54,
   "metadata": {},
   "outputs": [
    {
     "data": {
      "text/plain": [
       "0    6963\n",
       "1    2060\n",
       "Name: es_al_frente, dtype: int64"
      ]
     },
     "execution_count": 54,
     "metadata": {},
     "output_type": "execute_result"
    }
   ],
   "source": [
    "#Minamos el campo 'description' para obtener dummies de características significativas de las propiedades\n",
    "\n",
    "df['es_al_frente'] = df['description'].map(lambda x: 1 if x.lower().find(' frente ')>0 else 0)\n",
    "df['es_al_frente'].value_counts()"
   ]
  },
  {
   "cell_type": "code",
   "execution_count": 55,
   "metadata": {},
   "outputs": [
    {
     "data": {
      "text/plain": [
       "0    8138\n",
       "1     885\n",
       "Name: a_estrenar, dtype: int64"
      ]
     },
     "execution_count": 55,
     "metadata": {},
     "output_type": "execute_result"
    }
   ],
   "source": [
    "#Minamos el campo 'description' para obtener dummies de características significativas de las propiedades\n",
    "df['a_estrenar'] = df['description'].map(lambda x: 1 if x.lower().find('a estrenar')>0 else 0)\n",
    "df['a_estrenar'].value_counts()"
   ]
  },
  {
   "cell_type": "code",
   "execution_count": 56,
   "metadata": {},
   "outputs": [
    {
     "data": {
      "text/plain": [
       "0    6806\n",
       "1    2217\n",
       "Name: con_parrilla, dtype: int64"
      ]
     },
     "execution_count": 56,
     "metadata": {},
     "output_type": "execute_result"
    }
   ],
   "source": [
    "#Minamos el campo 'description' para obtener dummies de características significativas de las propiedades\n",
    "df['con_parrilla'] = df['description'].map(lambda x: 1 if x.lower().find('parrilla')>0 else 0)\n",
    "df['con_parrilla'].value_counts()"
   ]
  },
  {
   "cell_type": "code",
   "execution_count": 57,
   "metadata": {},
   "outputs": [
    {
     "data": {
      "text/plain": [
       "0    7725\n",
       "1    1298\n",
       "Name: piscina, dtype: int64"
      ]
     },
     "execution_count": 57,
     "metadata": {},
     "output_type": "execute_result"
    }
   ],
   "source": [
    "df['piscina'] = df['description'].map(lambda x: 1 if x.lower().find('piscina')>0 else 0)\n",
    "df['piscina'].value_counts()"
   ]
  },
  {
   "cell_type": "code",
   "execution_count": 58,
   "metadata": {},
   "outputs": [
    {
     "data": {
      "text/plain": [
       "(9023, 90)"
      ]
     },
     "execution_count": 58,
     "metadata": {},
     "output_type": "execute_result"
    }
   ],
   "source": [
    "#Chequeo cantidad final de registros y features\n",
    "\n",
    "df.shape"
   ]
  },
  {
   "cell_type": "code",
   "execution_count": 59,
   "metadata": {},
   "outputs": [],
   "source": [
    "#Importamos las librerías de sklearn que usaremos en la regresión.\n",
    "\n",
    "from sklearn.linear_model import LinearRegression\n",
    "from sklearn.model_selection import train_test_split\n",
    "from sklearn import metrics"
   ]
  },
  {
   "cell_type": "code",
   "execution_count": 60,
   "metadata": {},
   "outputs": [],
   "source": [
    "# creamos lista de features\n",
    "\n",
    "feature_cols = ['Belgrano', 'Barrio Norte', 'Palermo', 'NuÃ±ez', 'Puerto Madero', 'Recoleta', 'Saavedra', 'Palermo Hollywood', 'Colegiales', 'Palermo Soho', 'Almagro' \\\n",
    "    , 'Coghlan', 'Retiro', 'Palermo Chico', 'Las CaÃ±itas', 'Palermo Viejo' , 'Villa PueyrredÃ³n', 'Villa General Mitre', 'Boedo', 'Barracas', 'Centro / Microcentro', 'ConstituciÃ³n', 'Mataderos', 'Villa Lugano', 'Parque Patricios', 'Parque Centenario', 'Boca'  \\\n",
    "    , 'Parque Avellaneda' , 'Pompeya' , 'Villa Soldati', 'Caballito', 'Villa Urquiza', 'Flores', 'Villa Crespo', 'San Telmo', 'Balvanera', 'San Cristobal', 'Monserrat', 'Villa del Parque'  \\\n",
    "    , 'Floresta' , 'Villa Luro' , 'Liniers' , 'Villa Devoto' , 'Congreso' , 'Chacarita' , 'San NicolÃ¡s' , 'Paternal' , 'Once' , 'Parque Chacabuco' \\\n",
    "    , 'Tribunales' , 'Villa Ortuzar' , 'Monte Castro' , 'Versalles' , 'Velez Sarsfield' , 'AgronomÃ­a', 'Villa Real' , 'Parque Chas' , 'Villa Santa Rita'\\\n",
    "    , 'rooms', 'surface_total_in_m2', 'apartment' , 'house', 'store', 'tiene_amenities', 'tiene_cochera' , 'es_al_frente', 'a_estrenar', 'con_parrilla', 'piscina']"
   ]
  },
  {
   "cell_type": "code",
   "execution_count": 61,
   "metadata": {},
   "outputs": [
    {
     "name": "stdout",
     "output_type": "stream",
     "text": [
      "MSE: 5560709518.434799\n",
      "RMSE: 74570.16506911325\n",
      "R2: 0.8173497519885881\n"
     ]
    }
   ],
   "source": [
    "#Definimos el set de features y objetivo que usaremos en la regresión y corremos el modelo\n",
    "\n",
    "X = df[feature_cols]\n",
    "y = df.price_aprox_usd_FILLED\n",
    "X_train, X_test, y_train, y_test = train_test_split(X, y)\n",
    "linreg = LinearRegression()\n",
    "linreg.fit(X_train, y_train)\n",
    "y_pred = linreg.predict(X_test)\n",
    "print ('MSE:', metrics.mean_squared_error(y_test, y_pred))\n",
    "print ('RMSE:', np.sqrt(metrics.mean_squared_error(y_test, y_pred)))\n",
    "print ('R2:', metrics.r2_score(y_test, y_pred))\n"
   ]
  },
  {
   "cell_type": "code",
   "execution_count": 62,
   "metadata": {},
   "outputs": [
    {
     "data": {
      "text/plain": [
       "{'fit_time': array([0.01890206, 0.00983262, 0.00928211, 0.0100081 , 0.01051879]),\n",
       " 'score_time': array([0.001688  , 0.0017314 , 0.00168014, 0.00166988, 0.0016377 ]),\n",
       " 'test_score': array([0.80705593, 0.79929876, 0.80954395, 0.80589195, 0.82489849])}"
      ]
     },
     "execution_count": 62,
     "metadata": {},
     "output_type": "execute_result"
    }
   ],
   "source": [
    "#Hago el testeo con Cross Validation\n",
    "\n",
    "from sklearn.model_selection import cross_validate\n",
    "\n",
    "X = df[feature_cols]\n",
    "y = df.price_aprox_usd_FILLED\n",
    "cv_resultado = cross_validate(linreg, X, y, cv=5)\n",
    "cv_resultado"
   ]
  },
  {
   "cell_type": "code",
   "execution_count": 63,
   "metadata": {},
   "outputs": [
    {
     "data": {
      "text/plain": [
       "0.8093378141777456"
      ]
     },
     "execution_count": 63,
     "metadata": {},
     "output_type": "execute_result"
    }
   ],
   "source": [
    "cv_resultado['test_score'].mean()"
   ]
  }
 ],
 "metadata": {
  "interpreter": {
   "hash": "e57abe0607290a283c7939977d3c355266741152ec25fd8776da7bf061a711a6"
  },
  "kernelspec": {
   "display_name": "Python 3.8.12 64-bit ('dhdsblend2021': conda)",
   "name": "python3"
  },
  "language_info": {
   "codemirror_mode": {
    "name": "ipython",
    "version": 3
   },
   "file_extension": ".py",
   "mimetype": "text/x-python",
   "name": "python",
   "nbconvert_exporter": "python",
   "pygments_lexer": "ipython3",
   "version": "3.8.12"
  }
 },
 "nbformat": 4,
 "nbformat_minor": 4
}
